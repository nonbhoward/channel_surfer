{
 "cells": [
  {
   "cell_type": "code",
   "execution_count": 1,
   "metadata": {},
   "outputs": [],
   "source": [
    "from tvplayer import TVPlayer\n",
    "import time"
   ]
  },
  {
   "cell_type": "code",
   "execution_count": 2,
   "metadata": {},
   "outputs": [],
   "source": [
    "player = TVPlayer([\"nbc\",\"abc\"])\n",
    "playlist_file, schedules,info=player.initialize()"
   ]
  },
  {
   "cell_type": "code",
   "execution_count": 3,
   "metadata": {},
   "outputs": [
    {
     "name": "stdout",
     "output_type": "stream",
     "text": [
      "{0: {'run_time': 2723.0818990000002, 'channel_sections': [{'playlist_index': 0, 'start_time_abs': 0, 'start_time_rel': 0, 'stop_time_abs': 480, 'stop_time_rel': 480, 'video_length': 2595.358}, {'playlist_index': 1, 'start_time_abs': 480, 'start_time_rel': 0, 'stop_time_abs': 490.005, 'stop_time_rel': 10.005, 'video_length': 10.005}, {'playlist_index': 2, 'start_time_abs': 490.005, 'start_time_rel': 0, 'stop_time_abs': 507.98963299999997, 'stop_time_rel': 17.984633, 'video_length': 17.984633}, {'playlist_index': 3, 'start_time_abs': 507.98963299999997, 'start_time_rel': 480, 'stop_time_abs': 987.9896329999999, 'stop_time_rel': 960, 'video_length': 2595.358}, {'playlist_index': 4, 'start_time_abs': 987.9896329999999, 'start_time_rel': 0, 'stop_time_abs': 1005.974266, 'stop_time_rel': 17.984633, 'video_length': 17.984633}, {'playlist_index': 5, 'start_time_abs': 1005.974266, 'start_time_rel': 0, 'stop_time_abs': 1023.8942659999999, 'stop_time_rel': 17.92, 'video_length': 17.92}, {'playlist_index': 6, 'start_time_abs': 1023.8942659999999, 'start_time_rel': 960, 'stop_time_abs': 1503.8942659999998, 'stop_time_rel': 1440, 'video_length': 2595.358}, {'playlist_index': 7, 'start_time_abs': 1503.8942659999998, 'start_time_rel': 0, 'stop_time_abs': 1521.8142659999999, 'stop_time_rel': 17.92, 'video_length': 17.92}, {'playlist_index': 8, 'start_time_abs': 1521.8142659999999, 'start_time_rel': 0, 'stop_time_abs': 1531.819266, 'stop_time_rel': 10.005, 'video_length': 10.005}, {'playlist_index': 9, 'start_time_abs': 1531.819266, 'start_time_rel': 1440, 'stop_time_abs': 2011.819266, 'stop_time_rel': 1920, 'video_length': 2595.358}, {'playlist_index': 10, 'start_time_abs': 2011.819266, 'start_time_rel': 0, 'stop_time_abs': 2029.803899, 'stop_time_rel': 17.984633, 'video_length': 17.984633}, {'playlist_index': 11, 'start_time_abs': 2029.803899, 'start_time_rel': 0, 'stop_time_abs': 2047.723899, 'stop_time_rel': 17.92, 'video_length': 17.92}, {'playlist_index': 12, 'start_time_abs': 2047.723899, 'start_time_rel': 1920, 'stop_time_abs': 2723.0818990000002, 'stop_time_rel': 2595.358, 'video_length': 2595.358}]}, 1: {'run_time': 2693.183633, 'channel_sections': [{'playlist_index': 13, 'start_time_abs': 0, 'start_time_rel': 0, 'stop_time_abs': 480, 'stop_time_rel': 480, 'video_length': 2573.504}, {'playlist_index': 14, 'start_time_abs': 480, 'start_time_rel': 0, 'stop_time_abs': 497.92, 'stop_time_rel': 17.92, 'video_length': 17.92}, {'playlist_index': 15, 'start_time_abs': 497.92, 'start_time_rel': 0, 'stop_time_abs': 507.925, 'stop_time_rel': 10.005, 'video_length': 10.005}, {'playlist_index': 16, 'start_time_abs': 507.925, 'start_time_rel': 480, 'stop_time_abs': 987.925, 'stop_time_rel': 960, 'video_length': 2573.504}, {'playlist_index': 17, 'start_time_abs': 987.925, 'start_time_rel': 0, 'stop_time_abs': 1005.8449999999999, 'stop_time_rel': 17.92, 'video_length': 17.92}, {'playlist_index': 18, 'start_time_abs': 1005.8449999999999, 'start_time_rel': 0, 'stop_time_abs': 1015.8499999999999, 'stop_time_rel': 10.005, 'video_length': 10.005}, {'playlist_index': 19, 'start_time_abs': 1015.8499999999999, 'start_time_rel': 960, 'stop_time_abs': 1495.85, 'stop_time_rel': 1440, 'video_length': 2573.504}, {'playlist_index': 20, 'start_time_abs': 1495.85, 'start_time_rel': 0, 'stop_time_abs': 1513.77, 'stop_time_rel': 17.92, 'video_length': 17.92}, {'playlist_index': 21, 'start_time_abs': 1513.77, 'start_time_rel': 0, 'stop_time_abs': 1531.754633, 'stop_time_rel': 17.984633, 'video_length': 17.984633}, {'playlist_index': 22, 'start_time_abs': 1531.754633, 'start_time_rel': 1440, 'stop_time_abs': 2011.754633, 'stop_time_rel': 1920, 'video_length': 2573.504}, {'playlist_index': 23, 'start_time_abs': 2011.754633, 'start_time_rel': 0, 'stop_time_abs': 2021.7596330000001, 'stop_time_rel': 10.005, 'video_length': 10.005}, {'playlist_index': 24, 'start_time_abs': 2021.7596330000001, 'start_time_rel': 0, 'stop_time_abs': 2039.6796330000002, 'stop_time_rel': 17.92, 'video_length': 17.92}, {'playlist_index': 25, 'start_time_abs': 2039.6796330000002, 'start_time_rel': 1920, 'stop_time_abs': 2693.183633, 'stop_time_rel': 2573.504, 'video_length': 2573.504}]}}\n"
     ]
    }
   ],
   "source": [
    "print(info)"
   ]
  },
  {
   "cell_type": "code",
   "execution_count": 4,
   "metadata": {},
   "outputs": [
    {
     "name": "stdout",
     "output_type": "stream",
     "text": [
      "started\n"
     ]
    }
   ],
   "source": [
    "player.start()"
   ]
  },
  {
   "cell_type": "code",
   "execution_count": 3,
   "metadata": {},
   "outputs": [
    {
     "name": "stdout",
     "output_type": "stream",
     "text": [
      "started\n",
      "changing channel\n",
      "Offset:10.00442886352539\n",
      "found index at:0\n",
      "seeking:10.00442886352539\n",
      "chosen index:13\n",
      "changing channel\n",
      "Offset:20.26692795753479\n",
      "found index at:0\n",
      "seeking:20.26692795753479\n",
      "chosen index:0\n",
      "changing channel\n",
      "Offset:30.527865409851074\n",
      "found index at:0\n",
      "seeking:30.527865409851074\n",
      "chosen index:13\n",
      "shutdown\n"
     ]
    }
   ],
   "source": [
    "player.start()\n",
    "time.sleep(10)\n",
    "print(\"changing channel\")\n",
    "player.change_channel(1)\n",
    "time.sleep(10)\n",
    "print(\"changing channel\")\n",
    "player.change_channel(0)\n",
    "time.sleep(10)\n",
    "print(\"changing channel\")\n",
    "player.change_channel(1)\n",
    "time.sleep(10)\n",
    "print(\"shutdown\")\n",
    "player.stop()\n"
   ]
  },
  {
   "cell_type": "code",
   "execution_count": null,
   "metadata": {},
   "outputs": [],
   "source": []
  },
  {
   "cell_type": "code",
   "execution_count": null,
   "metadata": {},
   "outputs": [],
   "source": [
    "player.channel_up()"
   ]
  },
  {
   "cell_type": "code",
   "execution_count": null,
   "metadata": {},
   "outputs": [],
   "source": [
    "player.stop()"
   ]
  },
  {
   "cell_type": "code",
   "execution_count": 40,
   "metadata": {},
   "outputs": [
    {
     "name": "stdout",
     "output_type": "stream",
     "text": [
      "0\n"
     ]
    }
   ],
   "source": [
    "for i in range(0,1):\n",
    "    print(i)"
   ]
  },
  {
   "cell_type": "code",
   "execution_count": 83,
   "metadata": {},
   "outputs": [
    {
     "name": "stdout",
     "output_type": "stream",
     "text": [
      "[{'test': 1}, {'test': 1}, {'test': 1}]\n"
     ]
    }
   ],
   "source": [
    "test=[{},{},{}]\n",
    "for e in test:\n",
    "    e[\"test\"]=1\n",
    "print(test)"
   ]
  },
  {
   "cell_type": "code",
   "execution_count": null,
   "metadata": {},
   "outputs": [],
   "source": [
    "with Telnet('127.0.0.1',1234) as tn:\n",
    "    tn.write('1.mp4\\n\\c'.encode('utf-8'))"
   ]
  },
  {
   "cell_type": "code",
   "execution_count": 125,
   "metadata": {},
   "outputs": [
    {
     "ename": "AttributeError",
     "evalue": "'list' object has no attribute 'last'",
     "output_type": "error",
     "traceback": [
      "\u001b[0;31m---------------------------------------------------------------------------\u001b[0m",
      "\u001b[0;31mAttributeError\u001b[0m                            Traceback (most recent call last)",
      "\u001b[0;32m<ipython-input-125-bf3a23ef324b>\u001b[0m in \u001b[0;36m<module>\u001b[0;34m\u001b[0m\n\u001b[1;32m      1\u001b[0m \u001b[0mtest\u001b[0m\u001b[0;34m=\u001b[0m\u001b[0;34m[\u001b[0m\u001b[0;36m1\u001b[0m\u001b[0;34m,\u001b[0m\u001b[0;36m2\u001b[0m\u001b[0;34m,\u001b[0m\u001b[0;36m3\u001b[0m\u001b[0;34m]\u001b[0m\u001b[0;34m\u001b[0m\u001b[0;34m\u001b[0m\u001b[0m\n\u001b[0;32m----> 2\u001b[0;31m \u001b[0mprint\u001b[0m\u001b[0;34m(\u001b[0m\u001b[0mtest\u001b[0m\u001b[0;34m.\u001b[0m\u001b[0mlast\u001b[0m\u001b[0;34m(\u001b[0m\u001b[0;34m)\u001b[0m\u001b[0;34m)\u001b[0m\u001b[0;34m\u001b[0m\u001b[0;34m\u001b[0m\u001b[0m\n\u001b[0m",
      "\u001b[0;31mAttributeError\u001b[0m: 'list' object has no attribute 'last'"
     ]
    }
   ],
   "source": [
    "test=[1,2,3]\n",
    "print(test.last())"
   ]
  },
  {
   "cell_type": "code",
   "execution_count": null,
   "metadata": {},
   "outputs": [],
   "source": []
  },
  {
   "cell_type": "code",
   "execution_count": null,
   "metadata": {},
   "outputs": [],
   "source": []
  },
  {
   "cell_type": "code",
   "execution_count": null,
   "metadata": {},
   "outputs": [],
   "source": []
  }
 ],
 "metadata": {
  "kernelspec": {
   "display_name": "Python 3",
   "language": "python",
   "name": "python3"
  },
  "language_info": {
   "codemirror_mode": {
    "name": "ipython",
    "version": 3
   },
   "file_extension": ".py",
   "mimetype": "text/x-python",
   "name": "python",
   "nbconvert_exporter": "python",
   "pygments_lexer": "ipython3",
   "version": "3.7.3"
  }
 },
 "nbformat": 4,
 "nbformat_minor": 2
}

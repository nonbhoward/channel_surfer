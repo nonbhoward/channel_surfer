{
 "cells": [
  {
   "cell_type": "code",
   "execution_count": 2,
   "metadata": {},
   "outputs": [],
   "source": [
    "from tvplayer import TVPlayer_local\n",
    "import time"
   ]
  },
  {
   "cell_type": "code",
   "execution_count": 4,
   "metadata": {},
   "outputs": [],
   "source": [
    "player = TVPlayer_local([\"nbc\",\"abc\"])\n",
    "playlist_file, schedules,info=player.initialize()"
   ]
  },
  {
   "cell_type": "code",
   "execution_count": 3,
   "metadata": {},
   "outputs": [
    {
     "name": "stdout",
     "output_type": "stream",
     "text": [
      "{0: {'run_time': 2723.0818990000002, 'channel_sections': [{'playlist_index': 0, 'start_time_abs': 0, 'start_time_rel': 0, 'stop_time_abs': 480, 'stop_time_rel': 480, 'video_length': 2595.358}, {'playlist_index': 1, 'start_time_abs': 480, 'start_time_rel': 0, 'stop_time_abs': 490.005, 'stop_time_rel': 10.005, 'video_length': 10.005}, {'playlist_index': 2, 'start_time_abs': 490.005, 'start_time_rel': 0, 'stop_time_abs': 507.925, 'stop_time_rel': 17.92, 'video_length': 17.92}, {'playlist_index': 3, 'start_time_abs': 507.925, 'start_time_rel': 480, 'stop_time_abs': 987.925, 'stop_time_rel': 960, 'video_length': 2595.358}, {'playlist_index': 4, 'start_time_abs': 987.925, 'start_time_rel': 0, 'stop_time_abs': 1005.8449999999999, 'stop_time_rel': 17.92, 'video_length': 17.92}, {'playlist_index': 5, 'start_time_abs': 1005.8449999999999, 'start_time_rel': 0, 'stop_time_abs': 1023.829633, 'stop_time_rel': 17.984633, 'video_length': 17.984633}, {'playlist_index': 6, 'start_time_abs': 1023.829633, 'start_time_rel': 960, 'stop_time_abs': 1503.8296329999998, 'stop_time_rel': 1440, 'video_length': 2595.358}, {'playlist_index': 7, 'start_time_abs': 1503.8296329999998, 'start_time_rel': 0, 'stop_time_abs': 1521.8142659999999, 'stop_time_rel': 17.984633, 'video_length': 17.984633}, {'playlist_index': 8, 'start_time_abs': 1521.8142659999999, 'start_time_rel': 0, 'stop_time_abs': 1539.734266, 'stop_time_rel': 17.92, 'video_length': 17.92}, {'playlist_index': 9, 'start_time_abs': 1539.734266, 'start_time_rel': 1440, 'stop_time_abs': 2019.734266, 'stop_time_rel': 1920, 'video_length': 2595.358}, {'playlist_index': 10, 'start_time_abs': 2019.734266, 'start_time_rel': 0, 'stop_time_abs': 2037.718899, 'stop_time_rel': 17.984633, 'video_length': 17.984633}, {'playlist_index': 11, 'start_time_abs': 2037.718899, 'start_time_rel': 0, 'stop_time_abs': 2047.723899, 'stop_time_rel': 10.005, 'video_length': 10.005}, {'playlist_index': 12, 'start_time_abs': 2047.723899, 'start_time_rel': 1920, 'stop_time_abs': 2723.0818990000002, 'stop_time_rel': 2595.358, 'video_length': 2595.358}]}, 1: {'run_time': 2701.1632660000005, 'channel_sections': [{'playlist_index': 13, 'start_time_abs': 0, 'start_time_rel': 0, 'stop_time_abs': 480, 'stop_time_rel': 480, 'video_length': 2573.504}, {'playlist_index': 14, 'start_time_abs': 480, 'start_time_rel': 0, 'stop_time_abs': 497.984633, 'stop_time_rel': 17.984633, 'video_length': 17.984633}, {'playlist_index': 15, 'start_time_abs': 497.984633, 'start_time_rel': 0, 'stop_time_abs': 515.904633, 'stop_time_rel': 17.92, 'video_length': 17.92}, {'playlist_index': 16, 'start_time_abs': 515.904633, 'start_time_rel': 480, 'stop_time_abs': 995.904633, 'stop_time_rel': 960, 'video_length': 2573.504}, {'playlist_index': 17, 'start_time_abs': 995.904633, 'start_time_rel': 0, 'stop_time_abs': 1013.824633, 'stop_time_rel': 17.92, 'video_length': 17.92}, {'playlist_index': 18, 'start_time_abs': 1013.824633, 'start_time_rel': 0, 'stop_time_abs': 1031.809266, 'stop_time_rel': 17.984633, 'video_length': 17.984633}, {'playlist_index': 19, 'start_time_abs': 1031.809266, 'start_time_rel': 960, 'stop_time_abs': 1511.809266, 'stop_time_rel': 1440, 'video_length': 2573.504}, {'playlist_index': 20, 'start_time_abs': 1511.809266, 'start_time_rel': 0, 'stop_time_abs': 1521.814266, 'stop_time_rel': 10.005, 'video_length': 10.005}, {'playlist_index': 21, 'start_time_abs': 1521.814266, 'start_time_rel': 0, 'stop_time_abs': 1539.7342660000002, 'stop_time_rel': 17.92, 'video_length': 17.92}, {'playlist_index': 22, 'start_time_abs': 1539.7342660000002, 'start_time_rel': 1440, 'stop_time_abs': 2019.7342660000002, 'stop_time_rel': 1920, 'video_length': 2573.504}, {'playlist_index': 23, 'start_time_abs': 2019.7342660000002, 'start_time_rel': 0, 'stop_time_abs': 2029.7392660000003, 'stop_time_rel': 10.005, 'video_length': 10.005}, {'playlist_index': 24, 'start_time_abs': 2029.7392660000003, 'start_time_rel': 0, 'stop_time_abs': 2047.6592660000003, 'stop_time_rel': 17.92, 'video_length': 17.92}, {'playlist_index': 25, 'start_time_abs': 2047.6592660000003, 'start_time_rel': 1920, 'stop_time_abs': 2701.1632660000005, 'stop_time_rel': 2573.504, 'video_length': 2573.504}]}}\n"
     ]
    }
   ],
   "source": [
    "print(info)"
   ]
  },
  {
   "cell_type": "code",
   "execution_count": null,
   "metadata": {},
   "outputs": [],
   "source": []
  },
  {
   "cell_type": "code",
   "execution_count": 6,
   "metadata": {},
   "outputs": [
    {
     "name": "stdout",
     "output_type": "stream",
     "text": [
      "started\n",
      "changing channel\n",
      "Offset:10.002960920333862\n",
      "changing channel\n",
      "Offset:20.512677669525146\n",
      "changing channel\n",
      "Offset:31.02113914489746\n",
      "shutdown\n"
     ]
    },
    {
     "ename": "ConnectionRefusedError",
     "evalue": "[Errno 111] Connection refused",
     "output_type": "error",
     "traceback": [
      "\u001b[0;31m---------------------------------------------------------------------------\u001b[0m",
      "\u001b[0;31mConnectionRefusedError\u001b[0m                    Traceback (most recent call last)",
      "\u001b[0;32m<ipython-input-6-701533cbd71e>\u001b[0m in \u001b[0;36m<module>\u001b[0;34m\u001b[0m\n\u001b[1;32m     11\u001b[0m \u001b[0mtime\u001b[0m\u001b[0;34m.\u001b[0m\u001b[0msleep\u001b[0m\u001b[0;34m(\u001b[0m\u001b[0;36m10\u001b[0m\u001b[0;34m)\u001b[0m\u001b[0;34m\u001b[0m\u001b[0;34m\u001b[0m\u001b[0m\n\u001b[1;32m     12\u001b[0m \u001b[0mprint\u001b[0m\u001b[0;34m(\u001b[0m\u001b[0;34m\"shutdown\"\u001b[0m\u001b[0;34m)\u001b[0m\u001b[0;34m\u001b[0m\u001b[0;34m\u001b[0m\u001b[0m\n\u001b[0;32m---> 13\u001b[0;31m \u001b[0mplayer\u001b[0m\u001b[0;34m.\u001b[0m\u001b[0mstop\u001b[0m\u001b[0;34m(\u001b[0m\u001b[0;34m)\u001b[0m\u001b[0;34m\u001b[0m\u001b[0;34m\u001b[0m\u001b[0m\n\u001b[0m",
      "\u001b[0;32m~/Desktop/channel_surfer/tvplayer.py\u001b[0m in \u001b[0;36mstop\u001b[0;34m(self)\u001b[0m\n\u001b[1;32m    186\u001b[0m \u001b[0;34m\u001b[0m\u001b[0m\n\u001b[1;32m    187\u001b[0m     \u001b[0;32mdef\u001b[0m \u001b[0mstop\u001b[0m\u001b[0;34m(\u001b[0m\u001b[0mself\u001b[0m\u001b[0;34m)\u001b[0m\u001b[0;34m:\u001b[0m\u001b[0;34m\u001b[0m\u001b[0;34m\u001b[0m\u001b[0m\n\u001b[0;32m--> 188\u001b[0;31m         \u001b[0mself\u001b[0m\u001b[0;34m.\u001b[0m\u001b[0mvlc_shutdown\u001b[0m\u001b[0;34m(\u001b[0m\u001b[0;34m)\u001b[0m\u001b[0;34m\u001b[0m\u001b[0;34m\u001b[0m\u001b[0m\n\u001b[0m\u001b[1;32m    189\u001b[0m \u001b[0;34m\u001b[0m\u001b[0m\n\u001b[1;32m    190\u001b[0m     \u001b[0;32mdef\u001b[0m \u001b[0mchange_channel\u001b[0m\u001b[0;34m(\u001b[0m\u001b[0mself\u001b[0m\u001b[0;34m,\u001b[0m \u001b[0mchannel_index\u001b[0m\u001b[0;34m)\u001b[0m\u001b[0;34m:\u001b[0m\u001b[0;34m\u001b[0m\u001b[0;34m\u001b[0m\u001b[0m\n",
      "\u001b[0;32m~/Desktop/channel_surfer/tvplayer.py\u001b[0m in \u001b[0;36mvlc_shutdown\u001b[0;34m(self)\u001b[0m\n\u001b[1;32m    161\u001b[0m \u001b[0;34m\u001b[0m\u001b[0m\n\u001b[1;32m    162\u001b[0m     \u001b[0;32mdef\u001b[0m \u001b[0mvlc_shutdown\u001b[0m\u001b[0;34m(\u001b[0m\u001b[0mself\u001b[0m\u001b[0;34m)\u001b[0m\u001b[0;34m:\u001b[0m\u001b[0;34m\u001b[0m\u001b[0;34m\u001b[0m\u001b[0m\n\u001b[0;32m--> 163\u001b[0;31m         \u001b[0mself\u001b[0m\u001b[0;34m.\u001b[0m\u001b[0mvlc_telnet\u001b[0m\u001b[0;34m.\u001b[0m\u001b[0mopen\u001b[0m\u001b[0;34m(\u001b[0m\u001b[0;34m\"localhost\"\u001b[0m\u001b[0;34m,\u001b[0m\u001b[0;36m1234\u001b[0m\u001b[0;34m)\u001b[0m\u001b[0;34m\u001b[0m\u001b[0;34m\u001b[0m\u001b[0m\n\u001b[0m\u001b[1;32m    164\u001b[0m         \u001b[0mself\u001b[0m\u001b[0;34m.\u001b[0m\u001b[0mvlc_telnet\u001b[0m\u001b[0;34m.\u001b[0m\u001b[0mwrite\u001b[0m\u001b[0;34m(\u001b[0m\u001b[0;34m\"shutdown\\n\\r\"\u001b[0m\u001b[0;34m.\u001b[0m\u001b[0mencode\u001b[0m\u001b[0;34m(\u001b[0m\u001b[0;34m'utf-8'\u001b[0m\u001b[0;34m)\u001b[0m\u001b[0;34m)\u001b[0m\u001b[0;34m\u001b[0m\u001b[0;34m\u001b[0m\u001b[0m\n\u001b[1;32m    165\u001b[0m         \u001b[0mself\u001b[0m\u001b[0;34m.\u001b[0m\u001b[0mvlc_telnet\u001b[0m\u001b[0;34m.\u001b[0m\u001b[0mclose\u001b[0m\u001b[0;34m(\u001b[0m\u001b[0;34m)\u001b[0m\u001b[0;34m\u001b[0m\u001b[0;34m\u001b[0m\u001b[0m\n",
      "\u001b[0;32m~/anaconda3/lib/python3.7/telnetlib.py\u001b[0m in \u001b[0;36mopen\u001b[0;34m(self, host, port, timeout)\u001b[0m\n\u001b[1;32m    232\u001b[0m         \u001b[0mself\u001b[0m\u001b[0;34m.\u001b[0m\u001b[0mport\u001b[0m \u001b[0;34m=\u001b[0m \u001b[0mport\u001b[0m\u001b[0;34m\u001b[0m\u001b[0;34m\u001b[0m\u001b[0m\n\u001b[1;32m    233\u001b[0m         \u001b[0mself\u001b[0m\u001b[0;34m.\u001b[0m\u001b[0mtimeout\u001b[0m \u001b[0;34m=\u001b[0m \u001b[0mtimeout\u001b[0m\u001b[0;34m\u001b[0m\u001b[0;34m\u001b[0m\u001b[0m\n\u001b[0;32m--> 234\u001b[0;31m         \u001b[0mself\u001b[0m\u001b[0;34m.\u001b[0m\u001b[0msock\u001b[0m \u001b[0;34m=\u001b[0m \u001b[0msocket\u001b[0m\u001b[0;34m.\u001b[0m\u001b[0mcreate_connection\u001b[0m\u001b[0;34m(\u001b[0m\u001b[0;34m(\u001b[0m\u001b[0mhost\u001b[0m\u001b[0;34m,\u001b[0m \u001b[0mport\u001b[0m\u001b[0;34m)\u001b[0m\u001b[0;34m,\u001b[0m \u001b[0mtimeout\u001b[0m\u001b[0;34m)\u001b[0m\u001b[0;34m\u001b[0m\u001b[0;34m\u001b[0m\u001b[0m\n\u001b[0m\u001b[1;32m    235\u001b[0m \u001b[0;34m\u001b[0m\u001b[0m\n\u001b[1;32m    236\u001b[0m     \u001b[0;32mdef\u001b[0m \u001b[0m__del__\u001b[0m\u001b[0;34m(\u001b[0m\u001b[0mself\u001b[0m\u001b[0;34m)\u001b[0m\u001b[0;34m:\u001b[0m\u001b[0;34m\u001b[0m\u001b[0;34m\u001b[0m\u001b[0m\n",
      "\u001b[0;32m~/anaconda3/lib/python3.7/socket.py\u001b[0m in \u001b[0;36mcreate_connection\u001b[0;34m(address, timeout, source_address)\u001b[0m\n\u001b[1;32m    725\u001b[0m \u001b[0;34m\u001b[0m\u001b[0m\n\u001b[1;32m    726\u001b[0m     \u001b[0;32mif\u001b[0m \u001b[0merr\u001b[0m \u001b[0;32mis\u001b[0m \u001b[0;32mnot\u001b[0m \u001b[0;32mNone\u001b[0m\u001b[0;34m:\u001b[0m\u001b[0;34m\u001b[0m\u001b[0;34m\u001b[0m\u001b[0m\n\u001b[0;32m--> 727\u001b[0;31m         \u001b[0;32mraise\u001b[0m \u001b[0merr\u001b[0m\u001b[0;34m\u001b[0m\u001b[0;34m\u001b[0m\u001b[0m\n\u001b[0m\u001b[1;32m    728\u001b[0m     \u001b[0;32melse\u001b[0m\u001b[0;34m:\u001b[0m\u001b[0;34m\u001b[0m\u001b[0;34m\u001b[0m\u001b[0m\n\u001b[1;32m    729\u001b[0m         \u001b[0;32mraise\u001b[0m \u001b[0merror\u001b[0m\u001b[0;34m(\u001b[0m\u001b[0;34m\"getaddrinfo returns an empty list\"\u001b[0m\u001b[0;34m)\u001b[0m\u001b[0;34m\u001b[0m\u001b[0;34m\u001b[0m\u001b[0m\n",
      "\u001b[0;32m~/anaconda3/lib/python3.7/socket.py\u001b[0m in \u001b[0;36mcreate_connection\u001b[0;34m(address, timeout, source_address)\u001b[0m\n\u001b[1;32m    714\u001b[0m             \u001b[0;32mif\u001b[0m \u001b[0msource_address\u001b[0m\u001b[0;34m:\u001b[0m\u001b[0;34m\u001b[0m\u001b[0;34m\u001b[0m\u001b[0m\n\u001b[1;32m    715\u001b[0m                 \u001b[0msock\u001b[0m\u001b[0;34m.\u001b[0m\u001b[0mbind\u001b[0m\u001b[0;34m(\u001b[0m\u001b[0msource_address\u001b[0m\u001b[0;34m)\u001b[0m\u001b[0;34m\u001b[0m\u001b[0;34m\u001b[0m\u001b[0m\n\u001b[0;32m--> 716\u001b[0;31m             \u001b[0msock\u001b[0m\u001b[0;34m.\u001b[0m\u001b[0mconnect\u001b[0m\u001b[0;34m(\u001b[0m\u001b[0msa\u001b[0m\u001b[0;34m)\u001b[0m\u001b[0;34m\u001b[0m\u001b[0;34m\u001b[0m\u001b[0m\n\u001b[0m\u001b[1;32m    717\u001b[0m             \u001b[0;31m# Break explicitly a reference cycle\u001b[0m\u001b[0;34m\u001b[0m\u001b[0;34m\u001b[0m\u001b[0;34m\u001b[0m\u001b[0m\n\u001b[1;32m    718\u001b[0m             \u001b[0merr\u001b[0m \u001b[0;34m=\u001b[0m \u001b[0;32mNone\u001b[0m\u001b[0;34m\u001b[0m\u001b[0;34m\u001b[0m\u001b[0m\n",
      "\u001b[0;31mConnectionRefusedError\u001b[0m: [Errno 111] Connection refused"
     ]
    }
   ],
   "source": [
    "player.start()\n",
    "time.sleep(10)\n",
    "print(\"changing channel\")\n",
    "player.channel_up()\n",
    "time.sleep(10)\n",
    "print(\"changing channel\")\n",
    "player.channel_up()\n",
    "time.sleep(10)\n",
    "print(\"changing channel\")\n",
    "player.channel_up()\n",
    "time.sleep(10)\n",
    "print(\"shutdown\")\n",
    "player.stop()\n"
   ]
  },
  {
   "cell_type": "code",
   "execution_count": null,
   "metadata": {},
   "outputs": [],
   "source": []
  },
  {
   "cell_type": "code",
   "execution_count": null,
   "metadata": {},
   "outputs": [],
   "source": [
    "player.channel_up()"
   ]
  },
  {
   "cell_type": "code",
   "execution_count": null,
   "metadata": {},
   "outputs": [],
   "source": [
    "player.stop()"
   ]
  },
  {
   "cell_type": "code",
   "execution_count": 40,
   "metadata": {},
   "outputs": [
    {
     "name": "stdout",
     "output_type": "stream",
     "text": [
      "0\n"
     ]
    }
   ],
   "source": [
    "for i in range(0,1):\n",
    "    print(i)"
   ]
  },
  {
   "cell_type": "code",
   "execution_count": 83,
   "metadata": {},
   "outputs": [
    {
     "name": "stdout",
     "output_type": "stream",
     "text": [
      "[{'test': 1}, {'test': 1}, {'test': 1}]\n"
     ]
    }
   ],
   "source": [
    "test=[{},{},{}]\n",
    "for e in test:\n",
    "    e[\"test\"]=1\n",
    "print(test)"
   ]
  },
  {
   "cell_type": "code",
   "execution_count": null,
   "metadata": {},
   "outputs": [],
   "source": [
    "with Telnet('127.0.0.1',1234) as tn:\n",
    "    tn.write('1.mp4\\n\\c'.encode('utf-8'))"
   ]
  },
  {
   "cell_type": "code",
   "execution_count": 125,
   "metadata": {},
   "outputs": [
    {
     "ename": "AttributeError",
     "evalue": "'list' object has no attribute 'last'",
     "output_type": "error",
     "traceback": [
      "\u001b[0;31m---------------------------------------------------------------------------\u001b[0m",
      "\u001b[0;31mAttributeError\u001b[0m                            Traceback (most recent call last)",
      "\u001b[0;32m<ipython-input-125-bf3a23ef324b>\u001b[0m in \u001b[0;36m<module>\u001b[0;34m\u001b[0m\n\u001b[1;32m      1\u001b[0m \u001b[0mtest\u001b[0m\u001b[0;34m=\u001b[0m\u001b[0;34m[\u001b[0m\u001b[0;36m1\u001b[0m\u001b[0;34m,\u001b[0m\u001b[0;36m2\u001b[0m\u001b[0;34m,\u001b[0m\u001b[0;36m3\u001b[0m\u001b[0;34m]\u001b[0m\u001b[0;34m\u001b[0m\u001b[0;34m\u001b[0m\u001b[0m\n\u001b[0;32m----> 2\u001b[0;31m \u001b[0mprint\u001b[0m\u001b[0;34m(\u001b[0m\u001b[0mtest\u001b[0m\u001b[0;34m.\u001b[0m\u001b[0mlast\u001b[0m\u001b[0;34m(\u001b[0m\u001b[0;34m)\u001b[0m\u001b[0;34m)\u001b[0m\u001b[0;34m\u001b[0m\u001b[0;34m\u001b[0m\u001b[0m\n\u001b[0m",
      "\u001b[0;31mAttributeError\u001b[0m: 'list' object has no attribute 'last'"
     ]
    }
   ],
   "source": [
    "test=[1,2,3]\n",
    "print(test.last())"
   ]
  },
  {
   "cell_type": "code",
   "execution_count": null,
   "metadata": {},
   "outputs": [],
   "source": []
  },
  {
   "cell_type": "code",
   "execution_count": null,
   "metadata": {},
   "outputs": [],
   "source": []
  },
  {
   "cell_type": "code",
   "execution_count": null,
   "metadata": {},
   "outputs": [],
   "source": []
  }
 ],
 "metadata": {
  "kernelspec": {
   "display_name": "Python 3",
   "language": "python",
   "name": "python3"
  },
  "language_info": {
   "codemirror_mode": {
    "name": "ipython",
    "version": 3
   },
   "file_extension": ".py",
   "mimetype": "text/x-python",
   "name": "python",
   "nbconvert_exporter": "python",
   "pygments_lexer": "ipython3",
   "version": "3.7.3"
  }
 },
 "nbformat": 4,
 "nbformat_minor": 2
}
